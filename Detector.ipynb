{
 "cells": [
  {
   "cell_type": "code",
   "execution_count": 562,
   "metadata": {},
   "outputs": [],
   "source": [
    "#import sys\n",
    "#stdin, stdout, stderr = sys.stdin, sys.stdout, sys.stderr\n",
    "#reload(sys)\n",
    "#sys.stdin, sys.stdout, sys.stderr = stdin, stdout, stderr\n",
    "#sys.setdefaultencoding(\"utf-8\")\n",
    "import pandas as pd\n",
    "import numpy as np\n",
    "from sklearn.metrics import accuracy_score\n",
    "from sklearn.svm import SVC\n",
    "from sklearn.ensemble import AdaBoostClassifier\n",
    "import jieba\n",
    "from sklearn.feature_extraction.text import CountVectorizer\n",
    "from sklearn.feature_extraction import DictVectorizer\n",
    "from sklearn.pipeline import Pipeline\n",
    "from sklearn import base\n",
    "from sklearn.model_selection import cross_val_score\n",
    "import xgboost as xgb\n",
    "from sklearn.ensemble import GradientBoostingClassifier\n",
    "from sklearn.ensemble import VotingClassifier\n",
    "from sklearn.ensemble import RandomForestClassifier\n",
    "from sklearn.linear_model import LogisticRegression"
   ]
  },
  {
   "cell_type": "code",
   "execution_count": 776,
   "metadata": {},
   "outputs": [
    {
     "name": "stdout",
     "output_type": "stream",
     "text": [
      "20100\n",
      "19999\n",
      "402\n",
      "9244\n",
      "21677\n",
      "2852\n"
     ]
    }
   ],
   "source": [
    "df=pd.read_excel('aaa.xlsx')\n",
    "print len(df)\n",
    "#df_noise=pd.read_excel('noise.xlsx')\n",
    "#print len(df_noise)\n",
    "df_JBMC=pd.read_excel('JBMC_1.xlsx')\n",
    "print len(df_JBMC)\n",
    "df_SSMC=pd.read_excel('SSMC.xlsx')\n",
    "df_KSMC=pd.read_excel('KSMC.xlsx')\n",
    "df_KSMC1=pd.read_excel('KSMC1.xlsx')\n",
    "print len(df_KSMC)+len(df_KSMC)\n",
    "print len(df_SSMC)\n",
    "\n",
    "df_YPMC=pd.read_excel('YPMC.xlsx')\n",
    "print len(df_YPMC)\n",
    "\n",
    "\n",
    "df_XMMC=pd.read_excel('XMMC.xlsx')\n",
    "print len(df_XMMC)\n",
    "#df_FYMC=pd.read_excel('FYMC.xlsx')\n",
    "\n",
    "#print len(df_FYMC)\n",
    "\n",
    "df_SFMC=pd.read_excel('SFMC.xlsx')\n",
    "df_SFMC1=pd.read_excel('SFMC1.xlsx')"
   ]
  },
  {
   "cell_type": "code",
   "execution_count": 777,
   "metadata": {},
   "outputs": [],
   "source": [
    "#df_FYMC.insert(1,'target','fymc')\n",
    "#df_FYMC=df_FYMC.rename(columns={'FYMC': 'variable'})\n",
    "\n",
    "df_SFMC.insert(1,'target','sfmc')\n",
    "df_SFMC=df_SFMC.rename(columns={'XMMC': 'variable'})\n",
    "\n",
    "df_SFMC1.insert(1,'target','sfmc')\n",
    "df_SFMC1=df_SFMC1.rename(columns={'SFMC': 'variable'})\n",
    "\n",
    "\n",
    "df_XMMC.insert(1,'target','xmmc')\n",
    "df_XMMC=df_XMMC.rename(columns={'XMMC': 'variable'})\n",
    "\n",
    "df_KSMC.insert(1,'target','ksmc')\n",
    "df_KSMC=df_KSMC.rename(columns={'KSMC': 'variable'})\n",
    "\n",
    "df_KSMC1.insert(1,'target','ksmc')\n",
    "df_KSMC1=df_KSMC1.rename(columns={'KSMC': 'variable'})\n",
    "\n",
    "\n",
    "df_YPMC.insert(1,'target','ypmc')\n",
    "df_YPMC=df_YPMC.rename(columns={'YPMC': 'variable'})\n",
    "\n",
    "df_JBMC.insert(1,'target','jbmc')\n",
    "df_JBMC=df_JBMC.rename(columns={'NAME': 'variable'})\n",
    "\n",
    "df_SSMC.insert(1,'target','ssmc')\n",
    "df_SSMC=df_SSMC.rename(columns={'SSMC': 'variable'})\n",
    "\n",
    "#df_noise.insert(1,'target','noise')\n",
    "#df_noise = df_noise.rename(columns={'YPMC': 'variable'})\n",
    "\n",
    "df.drop('name',inplace=True,axis=1)\n",
    "df.insert(1,'type','address',allow_duplicates=True)\n",
    "df.insert(3,'type','address',allow_duplicates=True)\n",
    "\n",
    "\n",
    "df=pd.DataFrame(df.values.reshape(-1,2))\n",
    "\n",
    "df.columns=['variable','target']\n",
    "\n",
    "df.dropna(inplace=True)"
   ]
  },
  {
   "cell_type": "code",
   "execution_count": 778,
   "metadata": {},
   "outputs": [],
   "source": [
    "df.columns=['variable','target']"
   ]
  },
  {
   "cell_type": "code",
   "execution_count": 779,
   "metadata": {},
   "outputs": [],
   "source": [
    "df=pd.concat([df,df_JBMC,df_SSMC,df_YPMC,df_KSMC,df_KSMC1,df_XMMC,df_SFMC,df_SFMC1],axis=0)\n"
   ]
  },
  {
   "cell_type": "code",
   "execution_count": 780,
   "metadata": {},
   "outputs": [],
   "source": [
    "df['variable'] = df['variable'].values.astype('unicode')"
   ]
  },
  {
   "cell_type": "code",
   "execution_count": 781,
   "metadata": {},
   "outputs": [],
   "source": [
    "df.reset_index(drop=True,inplace=True)"
   ]
  },
  {
   "cell_type": "code",
   "execution_count": 783,
   "metadata": {},
   "outputs": [],
   "source": [
    "X,y=df.values[:,0],df.values[:,1]"
   ]
  },
  {
   "cell_type": "code",
   "execution_count": 784,
   "metadata": {},
   "outputs": [],
   "source": [
    "from sklearn.model_selection import train_test_split\n",
    "X_train, X_test, y_train, y_test = train_test_split(\n",
    "  X, y, test_size=0.33, random_state=88)"
   ]
  },
  {
   "cell_type": "code",
   "execution_count": 785,
   "metadata": {},
   "outputs": [],
   "source": [
    "vectorize=CountVectorizer(lowercase=False)"
   ]
  },
  {
   "cell_type": "code",
   "execution_count": 470,
   "metadata": {},
   "outputs": [],
   "source": [
    "#lst_tokenize=[]\n",
    "#for variable in X:\n",
    "    #seg_list = jieba.cut(variable, cut_all=True)\n",
    "    #lst_tokenize.append('\\'' + '\\', \\''.join(seg_list) +'\\'')"
   ]
  },
  {
   "cell_type": "code",
   "execution_count": 786,
   "metadata": {},
   "outputs": [],
   "source": [
    "lst_tokenize_train=[]\n",
    "for variable in X_train:\n",
    "    seg_list = jieba.cut(variable, cut_all=False)\n",
    "    lst_tokenize_train.append('\\'' + '\\', \\''.join(seg_list) +'\\'')"
   ]
  },
  {
   "cell_type": "code",
   "execution_count": 502,
   "metadata": {
    "scrolled": true
   },
   "outputs": [],
   "source": [
    "#X_token=vectorize.fit_transform(lst_tokenize)"
   ]
  },
  {
   "cell_type": "code",
   "execution_count": 787,
   "metadata": {},
   "outputs": [
    {
     "data": {
      "text/plain": [
       "CountVectorizer(analyzer=u'word', binary=False, decode_error=u'strict',\n",
       "        dtype=<type 'numpy.int64'>, encoding=u'utf-8', input=u'content',\n",
       "        lowercase=False, max_df=1.0, max_features=None, min_df=1,\n",
       "        ngram_range=(1, 1), preprocessor=None, stop_words=None,\n",
       "        strip_accents=None, token_pattern=u'(?u)\\\\b\\\\w\\\\w+\\\\b',\n",
       "        tokenizer=None, vocabulary=None)"
      ]
     },
     "execution_count": 787,
     "metadata": {},
     "output_type": "execute_result"
    }
   ],
   "source": [
    "vectorize.fit(lst_tokenize_train)"
   ]
  },
  {
   "cell_type": "code",
   "execution_count": 788,
   "metadata": {},
   "outputs": [],
   "source": [
    "X_train_token=vectorize.transform(lst_tokenize_train)"
   ]
  },
  {
   "cell_type": "code",
   "execution_count": 789,
   "metadata": {},
   "outputs": [],
   "source": [
    "lst_tokenize_test=[]\n",
    "for variable in X_test:\n",
    "    seg_list = jieba.cut(variable, cut_all=False)\n",
    "    lst_tokenize_test.append('\\'' + '\\', \\''.join(seg_list) +'\\'')"
   ]
  },
  {
   "cell_type": "code",
   "execution_count": 790,
   "metadata": {},
   "outputs": [],
   "source": [
    "X_test_token=vectorize.transform(lst_tokenize_test)"
   ]
  },
  {
   "cell_type": "code",
   "execution_count": 791,
   "metadata": {},
   "outputs": [
    {
     "data": {
      "text/plain": [
       "(24704, 13827)"
      ]
     },
     "execution_count": 791,
     "metadata": {},
     "output_type": "execute_result"
    }
   ],
   "source": [
    "X_test_token.shape"
   ]
  },
  {
   "cell_type": "code",
   "execution_count": 554,
   "metadata": {},
   "outputs": [],
   "source": [
    "clf=GradientBoostingClassifier()\n",
    "clf.fit(X_train_token,y_train)\n",
    "pred=clf.predict(X_test_token)"
   ]
  },
  {
   "cell_type": "code",
   "execution_count": 544,
   "metadata": {},
   "outputs": [
    {
     "name": "stderr",
     "output_type": "stream",
     "text": [
      "/Users/YuqiGuo/miniconda2/lib/python2.7/site-packages/sklearn/preprocessing/label.py:151: DeprecationWarning: The truth value of an empty array is ambiguous. Returning False, but in future this will result in an error. Use `array.size > 0` to check that an array is not empty.\n",
      "  if diff:\n"
     ]
    }
   ],
   "source": [
    "xgb2 = xgb.XGBClassifier()\n",
    "xgb2.fit(X_train_token, y_train)\n",
    "pred2=xgb2.predict(X_test_token)"
   ]
  },
  {
   "cell_type": "code",
   "execution_count": 631,
   "metadata": {},
   "outputs": [],
   "source": [
    "\n",
    "clf1=AdaBoostClassifier()\n",
    "clf1.fit(X_train_token, y_train)\n",
    "pred1=clf1.predict(X_test_token)"
   ]
  },
  {
   "cell_type": "code",
   "execution_count": 793,
   "metadata": {},
   "outputs": [
    {
     "data": {
      "text/plain": [
       "0.946931670984456"
      ]
     },
     "execution_count": 793,
     "metadata": {},
     "output_type": "execute_result"
    }
   ],
   "source": [
    "accuracy_score(y_test,pred_votting)"
   ]
  },
  {
   "cell_type": "code",
   "execution_count": 792,
   "metadata": {},
   "outputs": [
    {
     "name": "stderr",
     "output_type": "stream",
     "text": [
      "/Users/YuqiGuo/miniconda2/lib/python2.7/site-packages/sklearn/preprocessing/label.py:151: DeprecationWarning: The truth value of an empty array is ambiguous. Returning False, but in future this will result in an error. Use `array.size > 0` to check that an array is not empty.\n",
      "  if diff:\n"
     ]
    }
   ],
   "source": [
    "#xgb2 = xgb.XGBClassifier()\n",
    "\n",
    "clf2=LogisticRegression()\n",
    "clf1=RandomForestClassifier()\n",
    "clf=GradientBoostingClassifier()\n",
    "eclf1 = VotingClassifier(estimators=[\n",
    "        ('gb', clf), ('log', clf2), ('rf', clf1)],voting='soft')\n",
    "eclf1 = eclf1.fit(X_train_token, y_train)\n",
    "pred_votting=eclf1.predict(X_test_token) "
   ]
  },
  {
   "cell_type": "code",
   "execution_count": 794,
   "metadata": {},
   "outputs": [],
   "source": [
    "class Transformer(base.BaseEstimator, base.TransformerMixin):\n",
    "\n",
    "        \n",
    "        \n",
    "    def tokenizer(self,data):\n",
    "        lst_tokenize=[]\n",
    "        for variable in data:\n",
    "            seg_list = jieba.cut(variable, cut_all=False)\n",
    "            lst_tokenize.append('\\'' + '\\', \\''.join(seg_list) +'\\'')\n",
    "        return lst_tokenize\n",
    "    \n",
    "    def fit(self, X, y=None):\n",
    "        # tokenize data\n",
    "        train_token = tokenizer(X)\n",
    "        #print train[:100]\n",
    "\n",
    "        \n",
    "        # transform the training records\n",
    "        self.vectorizer = CountVectorizer().fit(train_token)\n",
    "        \n",
    "       \n",
    "        return self\n",
    "    \n",
    "    def transform(self, X):\n",
    "        \n",
    "        train_token = tokenizer(X)\n",
    "        X_trans=self.vectorizer.transform(train_token)\n",
    "        #print X_trans.shape\n",
    "        return X_trans"
   ]
  },
  {
   "cell_type": "code",
   "execution_count": 795,
   "metadata": {},
   "outputs": [],
   "source": [
    "\n",
    "class Estimator(base.BaseEstimator, base.ClassifierMixin):\n",
    "    '''\n",
    "        self.col, self.transformer, self.clf\n",
    "    '''\n",
    "    def __init__(self):\n",
    "       \n",
    "        \n",
    "        \n",
    "        self.transformer =Transformer() # initialize\n",
    "        \n",
    "\n",
    "    def fit(self, X, y):\n",
    "        # transform training data\n",
    "        self.transformer.fit(X)\n",
    "        X_train_token=self.transformer.transform(X)\n",
    "        #print X_train\n",
    "        \n",
    "        # train the model\n",
    "\n",
    "        clf2=LogisticRegression()\n",
    "        clf1=RandomForestClassifier()\n",
    "        clf=GradientBoostingClassifier()\n",
    "        self.eclf1  = VotingClassifier(estimators=[\n",
    "        ('gb', clf), ('log', clf2), ('rf', clf1)],voting='soft')\n",
    "        self.eclf1  = eclf1.fit(X_train_token, y_train)\n",
    "          \n",
    "        return self.eclf1 \n",
    "\n",
    "    def predict(self, X):       \n",
    "        X_test = self.transformer.transform(X) # transform test data\n",
    "        print X_test\n",
    "       \n",
    "        \n",
    "        return self.eclf1.predict(X_test) # predict test result\n",
    "\n",
    "    \n",
    "\n"
   ]
  },
  {
   "cell_type": "code",
   "execution_count": 796,
   "metadata": {},
   "outputs": [
    {
     "data": {
      "text/plain": [
       "VotingClassifier(estimators=[('gb', GradientBoostingClassifier(criterion='friedman_mse', init=None,\n",
       "              learning_rate=0.1, loss='deviance', max_depth=3,\n",
       "              max_features=None, max_leaf_nodes=None,\n",
       "              min_impurity_decrease=0.0, min_impurity_split=None,\n",
       "              min_samples_leaf=1, ...n_jobs=1,\n",
       "            oob_score=False, random_state=None, verbose=0,\n",
       "            warm_start=False))],\n",
       "         flatten_transform=None, n_jobs=1, voting='soft', weights=None)"
      ]
     },
     "execution_count": 796,
     "metadata": {},
     "output_type": "execute_result"
    }
   ],
   "source": [
    "estimator = Estimator()  # initialize\n",
    "estimator.fit(X_train, y_train)  # fit data"
   ]
  },
  {
   "cell_type": "code",
   "execution_count": 797,
   "metadata": {},
   "outputs": [
    {
     "name": "stdout",
     "output_type": "stream",
     "text": [
      "  (0, 5918)\t1\n",
      "  (0, 12590)\t1\n",
      "  (1, 5918)\t1\n",
      "  (1, 8807)\t1\n",
      "  (1, 11975)\t1\n",
      "  (2, 510)\t1\n",
      "  (2, 1048)\t1\n",
      "  (2, 10354)\t1\n",
      "  (3, 12915)\t1\n",
      "  (3, 13077)\t1\n",
      "  (4, 7816)\t1\n",
      "  (4, 12155)\t1\n",
      "  (5, 7095)\t1\n",
      "  (5, 7102)\t1\n",
      "  (5, 7781)\t1\n",
      "  (5, 9258)\t1\n",
      "  (6, 5271)\t1\n",
      "  (6, 7781)\t1\n",
      "  (7, 7781)\t1\n",
      "  (7, 11975)\t1\n",
      "  (7, 12759)\t1\n",
      "  (8, 5742)\t1\n",
      "  (9, 3661)\t1\n",
      "  (9, 11096)\t1\n",
      "  (10, 469)\t1\n",
      "  :\t:\n",
      "  (24697, 9430)\t1\n",
      "  (24698, 1016)\t1\n",
      "  (24698, 1332)\t1\n",
      "  (24698, 2566)\t1\n",
      "  (24698, 12035)\t1\n",
      "  (24699, 3661)\t1\n",
      "  (24699, 3723)\t1\n",
      "  (24699, 3934)\t1\n",
      "  (24699, 7391)\t1\n",
      "  (24699, 7796)\t1\n",
      "  (24699, 10856)\t1\n",
      "  (24699, 11258)\t1\n",
      "  (24700, 3706)\t1\n",
      "  (24700, 13419)\t1\n",
      "  (24701, 5586)\t1\n",
      "  (24701, 7103)\t1\n",
      "  (24701, 7427)\t1\n",
      "  (24701, 7781)\t1\n",
      "  (24701, 11975)\t1\n",
      "  (24702, 4987)\t1\n",
      "  (24702, 8687)\t1\n",
      "  (24702, 9762)\t1\n",
      "  (24702, 10076)\t1\n",
      "  (24703, 2615)\t1\n",
      "  (24703, 12268)\t1\n"
     ]
    },
    {
     "name": "stderr",
     "output_type": "stream",
     "text": [
      "/Users/YuqiGuo/miniconda2/lib/python2.7/site-packages/sklearn/preprocessing/label.py:151: DeprecationWarning: The truth value of an empty array is ambiguous. Returning False, but in future this will result in an error. Use `array.size > 0` to check that an array is not empty.\n",
      "  if diff:\n"
     ]
    }
   ],
   "source": [
    "pred_votting=estimator.predict(X_test)"
   ]
  },
  {
   "cell_type": "code",
   "execution_count": 798,
   "metadata": {},
   "outputs": [
    {
     "data": {
      "text/plain": [
       "0.9472150259067358"
      ]
     },
     "execution_count": 798,
     "metadata": {},
     "output_type": "execute_result"
    }
   ],
   "source": [
    "accuracy_score(y_test,pred_votting)"
   ]
  },
  {
   "cell_type": "code",
   "execution_count": 801,
   "metadata": {},
   "outputs": [
    {
     "data": {
      "text/html": [
       "<div>\n",
       "<style scoped>\n",
       "    .dataframe tbody tr th:only-of-type {\n",
       "        vertical-align: middle;\n",
       "    }\n",
       "\n",
       "    .dataframe tbody tr th {\n",
       "        vertical-align: top;\n",
       "    }\n",
       "\n",
       "    .dataframe thead th {\n",
       "        text-align: right;\n",
       "    }\n",
       "</style>\n",
       "<table border=\"1\" class=\"dataframe\">\n",
       "  <thead>\n",
       "    <tr style=\"text-align: right;\">\n",
       "      <th></th>\n",
       "      <th>pred</th>\n",
       "      <th>true_label</th>\n",
       "      <th>variable</th>\n",
       "    </tr>\n",
       "  </thead>\n",
       "  <tbody>\n",
       "    <tr>\n",
       "      <th>56</th>\n",
       "      <td>sfmc</td>\n",
       "      <td>ypmc</td>\n",
       "      <td>煎药袋</td>\n",
       "    </tr>\n",
       "    <tr>\n",
       "      <th>276</th>\n",
       "      <td>sfmc</td>\n",
       "      <td>ypmc</td>\n",
       "      <td>煎药袋</td>\n",
       "    </tr>\n",
       "    <tr>\n",
       "      <th>876</th>\n",
       "      <td>sfmc</td>\n",
       "      <td>ypmc</td>\n",
       "      <td>煎药机煎药</td>\n",
       "    </tr>\n",
       "    <tr>\n",
       "      <th>1154</th>\n",
       "      <td>sfmc</td>\n",
       "      <td>ssmc</td>\n",
       "      <td>(F)DSA</td>\n",
       "    </tr>\n",
       "  </tbody>\n",
       "</table>\n",
       "</div>"
      ],
      "text/plain": [
       "      pred true_label variable\n",
       "56    sfmc       ypmc      煎药袋\n",
       "276   sfmc       ypmc      煎药袋\n",
       "876   sfmc       ypmc    煎药机煎药\n",
       "1154  sfmc       ssmc   (F)DSA"
      ]
     },
     "execution_count": 801,
     "metadata": {},
     "output_type": "execute_result"
    }
   ],
   "source": [
    "incorrects = np.nonzero(pred_votting.reshape((-1,)) != y_test)\n",
    "d={'variable':X_test[incorrects[0]],'true_label':y_test[incorrects[0]],'pred':pred_votting[incorrects[0]]}\n",
    "error=pd.DataFrame(d)\n",
    "#error[error['true_label']=='jbmc']\n",
    "#error[error['true_label']=='sfmc']\n",
    "error[error['pred']=='sfmc']"
   ]
  }
 ],
 "metadata": {
  "kernelspec": {
   "display_name": "Python 2",
   "language": "python",
   "name": "python2"
  },
  "language_info": {
   "codemirror_mode": {
    "name": "ipython",
    "version": 2
   },
   "file_extension": ".py",
   "mimetype": "text/x-python",
   "name": "python",
   "nbconvert_exporter": "python",
   "pygments_lexer": "ipython2",
   "version": "2.7.14"
  }
 },
 "nbformat": 4,
 "nbformat_minor": 2
}
